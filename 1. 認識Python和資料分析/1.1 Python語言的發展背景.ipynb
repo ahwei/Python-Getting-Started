{
 "cells": [
  {
   "cell_type": "code",
   "execution_count": 1,
   "id": "6cc63c0f",
   "metadata": {},
   "outputs": [],
   "source": [
    "# 使用IPython的內嵌命令來顯示一些圖片\n",
    "%matplotlib inline\n",
    "from IPython.display import Image, display\n"
   ]
  },
  {
   "cell_type": "markdown",
   "id": "4a2b1697",
   "metadata": {},
   "source": [
    "# Python語言的發展背景\n",
    "\n",
    "Python是一種廣泛使用的高級、通用型編程語言。它的設計哲學強調代碼的可讀性，且其語法允許程序員使用更少的代碼表達思路，相較於C++或Java。\n"
   ]
  },
  {
   "cell_type": "code",
   "execution_count": 3,
   "id": "6f768785",
   "metadata": {},
   "outputs": [
    {
     "data": {
      "text/html": [
       "<img src=\"https://www.python.org/static/community_logos/python-logo.png\"/>"
      ],
      "text/plain": [
       "<IPython.core.display.Image object>"
      ]
     },
     "metadata": {},
     "output_type": "display_data"
    }
   ],
   "source": [
    "# 顯示Python的Logo\n",
    "display(Image(url='https://www.python.org/static/community_logos/python-logo.png'))\n"
   ]
  },
  {
   "cell_type": "markdown",
   "id": "af2b21bc",
   "metadata": {},
   "source": [
    "## Python的起源\n",
    "\n",
    "Python由Guido van Rossum於1989年的聖誕節期間創建，在1991年首次發布為Python 0.9.0。它是繼續ABC語言的工作，ABC是在荷蘭國家數學和計算機科學研究所開發的。\n",
    "\n",
    "Python的名稱來源於BBC的節目“Monty Python's Flying Circus”，而不是蟒蛇。\n"
   ]
  },
  {
   "cell_type": "code",
   "execution_count": 4,
   "id": "164a1567",
   "metadata": {},
   "outputs": [
    {
     "data": {
      "text/html": [
       "<img src=\"https://upload.wikimedia.org/wikipedia/commons/thumb/6/66/Guido_van_Rossum_OSCON_2006.jpg/800px-Guido_van_Rossum_OSCON_2006.jpg\"/>"
      ],
      "text/plain": [
       "<IPython.core.display.Image object>"
      ]
     },
     "metadata": {},
     "output_type": "display_data"
    }
   ],
   "source": [
    "# 顯示Guido的照片\n",
    "display(Image(url='https://upload.wikimedia.org/wikipedia/commons/thumb/6/66/Guido_van_Rossum_OSCON_2006.jpg/800px-Guido_van_Rossum_OSCON_2006.jpg'))\n"
   ]
  },
  {
   "cell_type": "markdown",
   "id": "db60c4ef",
   "metadata": {},
   "source": [
    "## Python在資料分析中的重要性\n",
    "\n",
    "隨著數據科學和機器學習領域的崛起，Python已成為這些領域的首選語言。主要原因有：\n",
    "\n",
    "- **廣泛的資料處理庫**: 如Pandas和Numpy。\n",
    "- **強大的數據視覺化工具**: 如Matplotlib和Seaborn。\n",
    "- **機器學習框架**: 如Scikit-learn和TensorFlow。\n",
    "\n",
    "[這裡](https://realpython.com/)是一個提供Python教程和範例的好地方，非常適合初學者。\n"
   ]
  }
 ],
 "metadata": {
  "kernelspec": {
   "display_name": "Python 3 (ipykernel)",
   "language": "python",
   "name": "python3"
  },
  "language_info": {
   "codemirror_mode": {
    "name": "ipython",
    "version": 3
   },
   "file_extension": ".py",
   "mimetype": "text/x-python",
   "name": "python",
   "nbconvert_exporter": "python",
   "pygments_lexer": "ipython3",
   "version": "3.9.7"
  }
 },
 "nbformat": 4,
 "nbformat_minor": 5
}
