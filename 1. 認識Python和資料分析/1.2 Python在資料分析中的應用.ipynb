{
 "cells": [
  {
   "cell_type": "code",
   "execution_count": 1,
   "id": "4b9b9b1f",
   "metadata": {},
   "outputs": [],
   "source": [
    "# 使用IPython的內嵌命令來顯示一些圖片\n",
    "%matplotlib inline\n",
    "from IPython.display import Image, display\n"
   ]
  },
  {
   "cell_type": "markdown",
   "id": "e95edcaf",
   "metadata": {},
   "source": [
    "# Python在資料分析中的應用\n",
    "\n",
    "Python在資料分析領域已經成為了首選語言，這得益於其豐富的數據處理和分析庫。無論是初級的數據操作，還是進階的機器學習任務，Python都有相應的工具可以應對。\n"
   ]
  },
  {
   "cell_type": "code",
   "execution_count": 2,
   "id": "26cb3018",
   "metadata": {},
   "outputs": [
    {
     "data": {
      "text/html": [
       "<img src=\"https://upload.wikimedia.org/wikipedia/commons/b/ba/Data_visualization_process_v1.png\"/>"
      ],
      "text/plain": [
       "<IPython.core.display.Image object>"
      ]
     },
     "metadata": {},
     "output_type": "display_data"
    }
   ],
   "source": [
    "# 顯示一個資料分析的示意圖\n",
    "display(Image(url='https://upload.wikimedia.org/wikipedia/commons/b/ba/Data_visualization_process_v1.png'))\n"
   ]
  },
  {
   "cell_type": "markdown",
   "id": "804c2f92",
   "metadata": {},
   "source": [
    "## 資料處理和清洗: Pandas\n",
    "\n",
    "Pandas是Python中最受歡迎的資料處理庫，它提供了大量工具來清洗、處理和分析結構化數據。\n",
    "\n",
    "主要功能：\n",
    "- 讀取和寫入各種格式的數據，如CSV、Excel和SQL數據庫。\n",
    "- 數據清洗，如填充缺失值、去除重複值等。\n",
    "- 數據聚合和轉換。\n",
    "- 統計分析。\n",
    "\n",
    "[Pandas官方文檔](https://pandas.pydata.org/docs/)\n"
   ]
  },
  {
   "cell_type": "markdown",
   "id": "e2480cf7",
   "metadata": {},
   "source": [
    "## 數值計算: Numpy\n",
    "\n",
    "Numpy是Python中進行數值計算的核心庫。它提供了大量的數學函數來處理數組和矩陣運算。\n",
    "\n",
    "主要功能：\n",
    "- 提供多維數組和矩陣結構。\n",
    "- 數組的基本操作，如排序、選擇和子集。\n",
    "- 線性代數、傅立葉變換和隨機數生成。\n",
    "\n",
    "[Numpy官方文檔](https://numpy.org/doc/)\n"
   ]
  },
  {
   "cell_type": "markdown",
   "id": "cd48946a",
   "metadata": {},
   "source": [
    "## 資料視覺化: Matplotlib和Seaborn\n",
    "\n",
    "Matplotlib是Python中最基本的資料視覺化庫，而Seaborn則是基於Matplotlib的，提供了更多高級和吸引人的視覺化功能。\n",
    "\n",
    "主要功能：\n",
    "- 繪製各種基本圖形，如折線圖、柱狀圖和散點圖。\n",
    "- 進行資料探索，視覺化資料的分布和關聯。\n",
    "- 統計圖表，如箱型圖和小提琴圖。\n",
    "\n",
    "[Matplotlib官方文檔](https://matplotlib.org/)\n",
    "[Seaborn官方文檔](https://seaborn.pydata.org/)\n"
   ]
  },
  {
   "cell_type": "markdown",
   "id": "b8f18d13",
   "metadata": {},
   "source": [
    "## 機器學習: Scikit-learn\n",
    "\n",
    "Scikit-learn是Python中最受歡迎的機器學習庫，提供了大量的機器學習算法和工具。\n",
    "\n",
    "主要功能：\n",
    "- 分類、回歸、聚類等監督和非監督學習算法。\n",
    "- 數據前處理，如特徵提取和數據標準化。\n",
    "- 模型選擇和評估。\n",
    "\n",
    "[Scikit-learn官方文檔](https://scikit-learn.org/stable/)\n"
   ]
  }
 ],
 "metadata": {
  "kernelspec": {
   "display_name": "Python 3 (ipykernel)",
   "language": "python",
   "name": "python3"
  },
  "language_info": {
   "codemirror_mode": {
    "name": "ipython",
    "version": 3
   },
   "file_extension": ".py",
   "mimetype": "text/x-python",
   "name": "python",
   "nbconvert_exporter": "python",
   "pygments_lexer": "ipython3",
   "version": "3.9.7"
  }
 },
 "nbformat": 4,
 "nbformat_minor": 5
}
