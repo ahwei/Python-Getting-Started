{
 "cells": [
  {
   "cell_type": "code",
   "execution_count": 1,
   "id": "3b6effc3",
   "metadata": {},
   "outputs": [],
   "source": [
    "# 使用IPython的內嵌命令來顯示圖片\n",
    "%matplotlib inline\n",
    "from IPython.display import Image, display\n"
   ]
  },
  {
   "cell_type": "markdown",
   "id": "e2e1d5a7",
   "metadata": {},
   "source": [
    "## Anaconda與Jupyter的介紹\n",
    "\n",
    "Anaconda和Jupyter是數據科學和Python編程中的兩個關鍵工具。他們讓使用者在一個簡單的環境中執行代碼，進行數據分析，並分享結果。\n"
   ]
  },
  {
   "cell_type": "code",
   "execution_count": 3,
   "id": "d9770695",
   "metadata": {},
   "outputs": [
    {
     "data": {
      "text/html": [
       "<img src=\"https://www.anaconda.com/wp-content/uploads/2022/12/anaconda_secondary_logo.svg\"/>"
      ],
      "text/plain": [
       "<IPython.core.display.Image object>"
      ]
     },
     "metadata": {},
     "output_type": "display_data"
    }
   ],
   "source": [
    "# 顯示Anaconda的Logo\n",
    "display(Image(url='https://www.anaconda.com/wp-content/uploads/2022/12/anaconda_secondary_logo.svg'))\n"
   ]
  },
  {
   "cell_type": "markdown",
   "id": "97399317",
   "metadata": {},
   "source": [
    "## Anaconda\n",
    "\n",
    "Anaconda是一個開源的Python和R語言的數據科學平台。它包括了一系列專為數據科學家所設計的工具和函式庫。\n",
    "\n",
    "**主要特點**：\n",
    "- **集成管理**： Anaconda集成了許多流行的數據科學、機器學習和AI函式庫。\n",
    "- **環境管理**： 使用`conda`，您可以輕鬆地建立和管理獨立的Python環境。\n",
    "- **跨平台**： Anaconda可在Windows、Mac OS和Linux上運行。\n",
    "\n",
    "[Anaconda官方文檔](https://docs.anaconda.com/)\n"
   ]
  },
  {
   "cell_type": "code",
   "execution_count": 5,
   "id": "2620ae38",
   "metadata": {},
   "outputs": [
    {
     "data": {
      "text/html": [
       "<img src=\"https://jupyter.org/assets/homepage/main-logo.svg\"/>"
      ],
      "text/plain": [
       "<IPython.core.display.Image object>"
      ]
     },
     "metadata": {},
     "output_type": "display_data"
    }
   ],
   "source": [
    "# 顯示Jupyter的Logo\n",
    "display(Image(url='https://jupyter.org/assets/homepage/main-logo.svg'))\n"
   ]
  },
  {
   "cell_type": "markdown",
   "id": "eebf7ae8",
   "metadata": {},
   "source": [
    "## Jupyter Notebook\n",
    "\n",
    "Jupyter Notebook是一個開源的Web應用程序，允許用戶創建和共享包含代碼、方程式、可視化和說明文本的文檔。\n",
    "\n",
    "**主要特點**：\n",
    "- **交互性**： 用戶可以即時運行代碼，並查看結果。\n",
    "- **支援多種語言**： 雖然Jupyter是專為Julia、Python和R語言設計的，但也支持多種其他語言。\n",
    "- **整合能力**： Jupyter可以輕鬆與大量的大數據工具和框架集成。\n",
    "- **分享和轉換**： Jupyter notebooks可以轉換為多種格式（如HTML、PDF）並輕鬆分享。\n",
    "\n",
    "[Jupyter官方文檔](https://jupyter-notebook.readthedocs.io/en/stable/)\n",
    "\n",
    "[獲取和安裝Jupyter](https://jupyter.org/install)\n"
   ]
  },
  {
   "cell_type": "markdown",
   "id": "ede15416",
   "metadata": {},
   "source": [
    "## 為什麼Anaconda和Jupyter對數據分析很重要？\n",
    "\n",
    "1. **一站式解決方案**： Anaconda提供了所有必要的工具和函式庫，這意味著用戶不需要單獨安裝數十個函式庫。\n",
    "2. **交互性學習**： Jupyter允許用戶即時查看他們代碼的結果，這使得學習和調試過程變得更加容易。\n",
    "3. **可重現性**： 使用Jupyter notebooks，數據分析師可以分享他們的整個分析過程，這使得其他人可以輕鬆地驗證和重複他們的結果。\n",
    "\n"
   ]
  }
 ],
 "metadata": {
  "kernelspec": {
   "display_name": "Python 3 (ipykernel)",
   "language": "python",
   "name": "python3"
  },
  "language_info": {
   "codemirror_mode": {
    "name": "ipython",
    "version": 3
   },
   "file_extension": ".py",
   "mimetype": "text/x-python",
   "name": "python",
   "nbconvert_exporter": "python",
   "pygments_lexer": "ipython3",
   "version": "3.9.7"
  }
 },
 "nbformat": 4,
 "nbformat_minor": 5
}
