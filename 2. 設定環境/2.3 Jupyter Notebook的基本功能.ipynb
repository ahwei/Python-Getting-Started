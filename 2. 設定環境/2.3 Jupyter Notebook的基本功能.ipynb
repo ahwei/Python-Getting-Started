{
 "cells": [
  {
   "cell_type": "markdown",
   "id": "40d8457b",
   "metadata": {},
   "source": [
    "## Jupyter Notebook的基本功能\n",
    "\n",
    "Jupyter Notebook不僅僅是一個代碼執行工具，它還提供了許多強大的功能，使數據分析和教學更加直觀和互動。\n"
   ]
  },
  {
   "cell_type": "markdown",
   "id": "08c9e2d3",
   "metadata": {},
   "source": [
    "### 主要功能和操作：\n",
    "\n",
    "1. **單元格模式**：\n",
    "   - **代碼單元格**：可以輸入和運行Python代碼。\n",
    "   - **Markdown單元格**：用於輸入文本、公式、圖片等，支持Markdown語法。\n",
    "\n",
    "2. **運行單元格**：\n",
    "   - 按 `Shift + Enter`：運行當前單元格並移至下一單元格。\n",
    "   - 按 `Ctrl + Enter`：只運行當前單元格。\n",
    "\n",
    "3. **插入單元格**：\n",
    "   - 可以使用工具欄上的按鈕或選單命令插入新單元格。\n",
    "   - 使用快捷鍵 `A` 在當前單元格上方插入單元格，使用 `B` 在下方插入。\n",
    "\n",
    "4. **刪除單元格**：\n",
    "   - 使用工具欄的剪切按鈕或快捷鍵 `D` 按兩次。\n",
    "\n",
    "5. **變更單元格類型**：\n",
    "   - 使用工具欄下拉選單或快捷鍵 `M` 轉換為Markdown，`Y` 轉換為代碼。\n",
    "\n",
    "6. **魔法命令**：\n",
    "   - Jupyter提供了一些特殊的命令（稱為“魔法命令”），例如`%matplotlib inline`（允許嵌入式繪圖）或`%time`（測量單個語句的執行時間）。\n",
    "\n",
    "7. **自動完成和文檔查看**：\n",
    "   - 在代碼單元格中，按 `Tab` 鍵可以觸發自動完成建議。\n",
    "   - 按 `Shift + Tab` 可以查看函數的簡短文檔。\n",
    "\n",
    "8. **導出和分享**：\n",
    "   - 可以將Notebook導出為多種格式，包括HTML、PDF、Markdown等。\n",
    "   - 使用[Jupyter nbviewer](https://nbviewer.jupyter.org/)在網上共享Notebooks。\n",
    "   \n",
    "9. **核心和內核重啟**：\n",
    "   - 若代碼進入無響應狀態，可以使用工具欄的“停止”按鈕中斷執行。\n",
    "   - 重啟內核將重新啟動Python環境，丟棄所有已存變數和函數定義。\n",
    "\n"
   ]
  },
  {
   "cell_type": "markdown",
   "id": "efa31b4d",
   "metadata": {},
   "source": [
    "## 貼士：\n",
    "\n",
    "- **快速鍵**： Jupyter有許多有用的快捷鍵，可以提高您的效率。您可以通過選擇“Help” > “Keyboard Shortcuts”來查看完整列表。\n",
    "- **擴展和插件**： Jupyter有一個活躍的社區，他們開發了許多有用的擴展和插件，例如Jupyter widgets或nbextensions。\n",
    "- **保持更新**： 定期檢查更新，以確保您正在使用最新的Jupyter版本和功能。\n",
    "\n"
   ]
  }
 ],
 "metadata": {
  "kernelspec": {
   "display_name": "Python 3 (ipykernel)",
   "language": "python",
   "name": "python3"
  },
  "language_info": {
   "codemirror_mode": {
    "name": "ipython",
    "version": 3
   },
   "file_extension": ".py",
   "mimetype": "text/x-python",
   "name": "python",
   "nbconvert_exporter": "python",
   "pygments_lexer": "ipython3",
   "version": "3.9.7"
  }
 },
 "nbformat": 4,
 "nbformat_minor": 5
}
