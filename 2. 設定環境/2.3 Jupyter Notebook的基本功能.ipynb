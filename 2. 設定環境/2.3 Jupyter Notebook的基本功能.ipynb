{
 "cells": [
  {
   "cell_type": "markdown",
   "id": "40d8457b",
   "metadata": {},
   "source": [
    "## Jupyter Notebook的基本功能\n",
    "\n",
    "Jupyter Notebook不僅僅是一個代碼執行工具，它還提供了許多強大的功能，使數據分析和教學更加直觀和互動。\n"
   ]
  },
  {
   "cell_type": "code",
   "execution_count": null,
   "id": "c04cc9b5",
   "metadata": {},
   "outputs": [],
   "source": []
  }
 ],
 "metadata": {
  "kernelspec": {
   "display_name": "Python 3 (ipykernel)",
   "language": "python",
   "name": "python3"
  },
  "language_info": {
   "codemirror_mode": {
    "name": "ipython",
    "version": 3
   },
   "file_extension": ".py",
   "mimetype": "text/x-python",
   "name": "python",
   "nbconvert_exporter": "python",
   "pygments_lexer": "ipython3",
   "version": "3.9.7"
  }
 },
 "nbformat": 4,
 "nbformat_minor": 5
}
