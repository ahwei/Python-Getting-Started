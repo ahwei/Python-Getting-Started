{
 "cells": [
  {
   "cell_type": "code",
   "execution_count": 1,
   "id": "1e215a98",
   "metadata": {},
   "outputs": [],
   "source": [
    "# 使用IPython的內嵌命令來顯示圖片\n",
    "%matplotlib inline\n",
    "from IPython.display import Image, display\n"
   ]
  },
  {
   "cell_type": "markdown",
   "id": "1c22883d",
   "metadata": {},
   "source": [
    "# 2. 設定環境\n"
   ]
  },
  {
   "cell_type": "markdown",
   "id": "24ecd8c8",
   "metadata": {},
   "source": [
    "## 如何安裝Anaconda\n",
    "\n",
    "Anaconda是最受歡迎的Python數據科學平台，它集成了大量的函式庫和工具，使得設定數據科學環境變得相對容易。\n"
   ]
  },
  {
   "cell_type": "code",
   "execution_count": 4,
   "id": "f46ad0c2",
   "metadata": {},
   "outputs": [
    {
     "data": {
      "text/html": [
       "<img src=\"https://www.anaconda.com/wp-content/uploads/2022/12/anaconda_secondary_logo.svg\"/>"
      ],
      "text/plain": [
       "<IPython.core.display.Image object>"
      ]
     },
     "metadata": {},
     "output_type": "display_data"
    }
   ],
   "source": [
    "# 顯示Anaconda的Logo\n",
    "display(Image(url='https://www.anaconda.com/wp-content/uploads/2022/12/anaconda_secondary_logo.svg'))\n"
   ]
  },
  {
   "cell_type": "markdown",
   "id": "ca9b4973",
   "metadata": {},
   "source": [
    "### 安裝步驟：\n",
    "\n",
    "1. **下載安裝程序**：\n",
    "   - 訪問[Anaconda官方下載頁面](https://www.anaconda.com/products/distribution#download-section)。\n",
    "   - 根據您的作業系統(Windows、macOS或Linux)選擇相應的版本。\n",
    "   - 建議下載Python 3.x版本的Anaconda。\n",
    "\n",
    "2. **執行安裝程序**：\n",
    "   - **Windows**: 雙擊下載的 `.exe` 文件並遵循提示。\n",
    "   - **macOS**: 打開下載的 `.pkg` 文件並遵循提示。\n",
    "   - **Linux**: 打開終端機，導航到下載目錄，然後執行 `bash Anaconda3-xxxxx-Linux-x86_64.sh`，其中 `xxxxx` 是版本號。\n",
    "\n",
    "3. **選擇安裝選項**：\n",
    "   - 如果被問到是否將Anaconda添加到您的PATH變量，建議選擇“是”或“添加”。\n",
    "\n",
    "4. **完成安裝**：\n",
    "   - 安裝完成後，重新啟動您的終端機或命令提示符，然後輸入 `conda list`。如果看到一列已安裝的函式庫，則表示Anaconda已成功安裝。\n",
    "\n",
    "5. **啟動Anaconda Navigator**（可選）：\n",
    "   - Anaconda Navigator是一個圖形用戶界面，允許您訪問Anaconda的所有功能。啟動它將使得管理包和環境、啟動Jupyter Notebook等操作變得更加容易。\n",
    "\n"
   ]
  },
  {
   "cell_type": "markdown",
   "id": "44edd6c7",
   "metadata": {},
   "source": [
    "## 建議\n",
    "\n",
    "- **管理Python環境**： 使用Anaconda時，建議經常使用`conda`命令來創建和管理獨立的Python環境。這允許您為不同的項目保持不同版本的函式庫和Python，確保不會互相干擾。\n",
    "- **更新Anaconda**： 定期執行 `conda update --all` 來更新所有的函式庫和工具到最新版本。\n",
    "\n"
   ]
  }
 ],
 "metadata": {
  "kernelspec": {
   "display_name": "Python 3 (ipykernel)",
   "language": "python",
   "name": "python3"
  },
  "language_info": {
   "codemirror_mode": {
    "name": "ipython",
    "version": 3
   },
   "file_extension": ".py",
   "mimetype": "text/x-python",
   "name": "python",
   "nbconvert_exporter": "python",
   "pygments_lexer": "ipython3",
   "version": "3.9.7"
  }
 },
 "nbformat": 4,
 "nbformat_minor": 5
}
