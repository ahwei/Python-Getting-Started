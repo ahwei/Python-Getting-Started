{
 "cells": [
  {
   "cell_type": "markdown",
   "id": "98154bb0",
   "metadata": {},
   "source": [
    "# 3. Python基礎：資料類型和變數\n"
   ]
  },
  {
   "cell_type": "markdown",
   "id": "1233e9af",
   "metadata": {},
   "source": [
    "## 整數 (Integers)\n",
    "\n",
    "在Python中，整數是不帶小數點的數字。它可以是正數、負數或零。\n",
    "\n",
    "**範例**:"
   ]
  },
  {
   "cell_type": "code",
   "execution_count": 4,
   "id": "27125fef",
   "metadata": {},
   "outputs": [],
   "source": [
    "a = 5\n",
    "b = -3\n",
    "c = 0\n",
    "sum_result = a + b  # 加法\n",
    "diff_result = a - b  # 減法"
   ]
  },
  {
   "cell_type": "code",
   "execution_count": 5,
   "id": "3260eaaf",
   "metadata": {},
   "outputs": [
    {
     "data": {
      "text/plain": [
       "2"
      ]
     },
     "execution_count": 5,
     "metadata": {},
     "output_type": "execute_result"
    }
   ],
   "source": [
    "sum_result"
   ]
  },
  {
   "cell_type": "code",
   "execution_count": 6,
   "id": "e484d970",
   "metadata": {},
   "outputs": [
    {
     "data": {
      "text/plain": [
       "8"
      ]
     },
     "execution_count": 6,
     "metadata": {},
     "output_type": "execute_result"
    }
   ],
   "source": [
    "diff_result"
   ]
  },
  {
   "cell_type": "markdown",
   "id": "de3a7eca",
   "metadata": {},
   "source": [
    "## 浮點數 (Floats)\n",
    "\n",
    "浮點數是帶有小數點的數字。\n",
    "\n",
    "**範例**:"
   ]
  },
  {
   "cell_type": "code",
   "execution_count": 8,
   "id": "6a6d363d",
   "metadata": {},
   "outputs": [],
   "source": [
    "d = 5.6\n",
    "e = -7.9\n",
    "division_result = a / d  # 除法\n",
    "multiplication_result = d * e  # 乘法"
   ]
  },
  {
   "cell_type": "code",
   "execution_count": 9,
   "id": "7f4793a3",
   "metadata": {},
   "outputs": [
    {
     "data": {
      "text/plain": [
       "0.8928571428571429"
      ]
     },
     "execution_count": 9,
     "metadata": {},
     "output_type": "execute_result"
    }
   ],
   "source": [
    "division_result"
   ]
  },
  {
   "cell_type": "code",
   "execution_count": 10,
   "id": "abddf4ed",
   "metadata": {},
   "outputs": [
    {
     "data": {
      "text/plain": [
       "-44.24"
      ]
     },
     "execution_count": 10,
     "metadata": {},
     "output_type": "execute_result"
    }
   ],
   "source": [
    "multiplication_result"
   ]
  },
  {
   "cell_type": "markdown",
   "id": "8810f779",
   "metadata": {},
   "source": [
    "## 字串 (Strings)\n",
    "\n",
    "字串是字符的序列，可以用單引號或雙引號來定義。\n",
    "\n",
    "**範例**:"
   ]
  },
  {
   "cell_type": "code",
   "execution_count": 12,
   "id": "98221a3e",
   "metadata": {},
   "outputs": [],
   "source": [
    "string1 = \"Hello\"\n",
    "string2 = 'World'\n",
    "concatenated_string = string1 + \" \" + string2  # 字串串接"
   ]
  },
  {
   "cell_type": "code",
   "execution_count": 13,
   "id": "9a15d11a",
   "metadata": {},
   "outputs": [
    {
     "data": {
      "text/plain": [
       "'Hello World'"
      ]
     },
     "execution_count": 13,
     "metadata": {},
     "output_type": "execute_result"
    }
   ],
   "source": [
    "concatenated_string"
   ]
  }
 ],
 "metadata": {
  "kernelspec": {
   "display_name": "Python 3 (ipykernel)",
   "language": "python",
   "name": "python3"
  },
  "language_info": {
   "codemirror_mode": {
    "name": "ipython",
    "version": 3
   },
   "file_extension": ".py",
   "mimetype": "text/x-python",
   "name": "python",
   "nbconvert_exporter": "python",
   "pygments_lexer": "ipython3",
   "version": "3.9.7"
  }
 },
 "nbformat": 4,
 "nbformat_minor": 5
}
