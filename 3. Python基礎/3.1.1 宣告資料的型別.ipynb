{
 "cells": [
  {
   "cell_type": "markdown",
   "id": "2b898310",
   "metadata": {},
   "source": [
    "## 宣告資料的型別 (Type Annotations)"
   ]
  },
  {
   "cell_type": "markdown",
   "id": "5be980a2",
   "metadata": {},
   "source": [
    "\n",
    "從Python 3.5開始，通過Type Hints (或稱為 Type Annotations) 可以明確指定變數、函數參數和函數返回值的預期資料型別。雖然Python是動態型別語言，但Type Hints可以增加代碼的可讀性和後續的維護性。它也使得工具如`mypy`可以進行靜態型別檢查。\n",
    "\n",
    "**注意**：型別提示只是一個提示，不會強制變數必須是該型別。\n",
    "\n",
    "**範例**:\n",
    "```python\n",
    "# 宣告整數型別\n",
    "age: int = 25\n",
    "\n",
    "# 宣告浮點數型別\n",
    "price: float = 19.99\n",
    "\n",
    "# 宣告字串型別\n",
    "name: str = \"Alice\"\n"
   ]
  },
  {
   "cell_type": "code",
   "execution_count": 4,
   "id": "bb5efb42",
   "metadata": {},
   "outputs": [
    {
     "name": "stdout",
     "output_type": "stream",
     "text": [
      "<class 'int'>\n"
     ]
    }
   ],
   "source": [
    "# 宣告整數型別\n",
    "age: int = 25\n",
    "\n",
    "# 檢查 'age' 的資料型別\n",
    "print(type(age))  # 輸出: <class 'int'>"
   ]
  },
  {
   "cell_type": "code",
   "execution_count": 5,
   "id": "1fc92e31",
   "metadata": {},
   "outputs": [
    {
     "name": "stdout",
     "output_type": "stream",
     "text": [
      "<class 'float'>\n"
     ]
    }
   ],
   "source": [
    "# 宣告浮點數型別\n",
    "price: float = 19.99\n",
    "\n",
    "# 檢查 'price' 的資料型別\n",
    "print(type(price))  # 輸出: <class 'float'>"
   ]
  },
  {
   "cell_type": "code",
   "execution_count": 6,
   "id": "9c44c7c8",
   "metadata": {},
   "outputs": [
    {
     "name": "stdout",
     "output_type": "stream",
     "text": [
      "<class 'str'>\n"
     ]
    }
   ],
   "source": [
    "# 宣告字串型別\n",
    "name: str = \"Alice\"\n",
    "\n",
    "# 檢查 'name' 的資料型別\n",
    "print(type(name))  # 輸出: <class 'str'>"
   ]
  },
  {
   "cell_type": "markdown",
   "id": "a9c2eedd",
   "metadata": {},
   "source": [
    "### 函數與型別提示(未來章節)\n",
    "\n",
    "型別提示也可以用於指定函數參數和返回值的型別。\n",
    "\n",
    "**範例**:\n",
    "```python\n",
    "def greet(name: str) -> str:\n",
    "    return \"Hello, \" + name\n",
    "\n",
    "# 這裡，函數 'greet' 預期一個字串型別的參數 'name'，並返回一個字串型別的值。\n"
   ]
  }
 ],
 "metadata": {
  "kernelspec": {
   "display_name": "Python 3 (ipykernel)",
   "language": "python",
   "name": "python3"
  },
  "language_info": {
   "codemirror_mode": {
    "name": "ipython",
    "version": 3
   },
   "file_extension": ".py",
   "mimetype": "text/x-python",
   "name": "python",
   "nbconvert_exporter": "python",
   "pygments_lexer": "ipython3",
   "version": "3.9.7"
  }
 },
 "nbformat": 4,
 "nbformat_minor": 5
}
