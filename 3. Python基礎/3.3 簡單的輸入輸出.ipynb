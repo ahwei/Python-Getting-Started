{
 "cells": [
  {
   "cell_type": "markdown",
   "id": "d6d40000",
   "metadata": {},
   "source": [
    "## 簡單的輸入輸出\n"
   ]
  },
  {
   "cell_type": "markdown",
   "id": "8e3eff66",
   "metadata": {},
   "source": [
    "### 輸出 (Output)\n",
    "\n",
    "在Python中，`print()` 函數用於將資料輸出到螢幕上。\n",
    "\n",
    "**範例**:\n",
    "```python\n",
    "# 基本輸出\n",
    "print(\"Hello, World!\")\n",
    "\n",
    "# 輸出多個項目\n",
    "name = \"John\"\n",
    "print(\"Hello,\", name, \"!\")\n"
   ]
  },
  {
   "cell_type": "code",
   "execution_count": 2,
   "id": "3af7ef25",
   "metadata": {},
   "outputs": [
    {
     "name": "stdout",
     "output_type": "stream",
     "text": [
      "Hello, World!\n"
     ]
    }
   ],
   "source": [
    "# 基本輸出\n",
    "print(\"Hello, World!\")"
   ]
  },
  {
   "cell_type": "code",
   "execution_count": 3,
   "id": "3e5b09ce",
   "metadata": {},
   "outputs": [
    {
     "name": "stdout",
     "output_type": "stream",
     "text": [
      "Hello, John !\n"
     ]
    }
   ],
   "source": [
    "# 輸出多個項目\n",
    "name = \"John\"\n",
    "print(\"Hello,\", name, \"!\")"
   ]
  },
  {
   "cell_type": "markdown",
   "id": "dd5ad163",
   "metadata": {},
   "source": [
    "### 字串格式化\n",
    "\n",
    "可以使用字串的格式化功能來控制輸出的格式。\n",
    "\n",
    "**範例**:\n",
    "```python\n",
    "age = 30\n",
    "print(\"My age is %d years.\" % age)  # 使用 %d 來格式化整數\n",
    "\n",
    "price = 50.5\n",
    "print(\"The price is %.2f dollars.\" % price)  # 使用 %.2f 來格式化浮點數並保留兩位小數\n",
    "``\n"
   ]
  },
  {
   "cell_type": "code",
   "execution_count": 4,
   "id": "d966b4cf",
   "metadata": {},
   "outputs": [
    {
     "name": "stdout",
     "output_type": "stream",
     "text": [
      "My age is 30 years.\n"
     ]
    }
   ],
   "source": [
    "age = 30\n",
    "print(\"My age is %d years.\" % age)  # 使用 %d 來格式化整數"
   ]
  },
  {
   "cell_type": "code",
   "execution_count": 5,
   "id": "ef606d6c",
   "metadata": {},
   "outputs": [
    {
     "name": "stdout",
     "output_type": "stream",
     "text": [
      "The price is 50.50 dollars.\n"
     ]
    }
   ],
   "source": [
    "price = 50.5\n",
    "print(\"The price is %.2f dollars.\" % price)  # 使用 %.2f 來格式化浮點數並保留兩位小數"
   ]
  },
  {
   "cell_type": "markdown",
   "id": "d2ebc367",
   "metadata": {},
   "source": [
    "### 輸入 (Input)\n",
    "\n",
    "`input()` 函數允許用戶輸入資料。默認情況下，它返回一個字串。\n",
    "\n",
    "**範例**:\n",
    "```python\n",
    "# 基本輸入\n",
    "name = input(\"Enter your name: \")\n",
    "print(\"Hello,\", name, \"!\")\n"
   ]
  },
  {
   "cell_type": "code",
   "execution_count": 7,
   "id": "e2501da3",
   "metadata": {},
   "outputs": [
    {
     "name": "stdout",
     "output_type": "stream",
     "text": [
      "Enter your name: 123\n",
      "Hello, 123 !\n"
     ]
    }
   ],
   "source": [
    "# 基本輸入\n",
    "name = input(\"Enter your name: \")\n",
    "print(\"Hello,\", name, \"!\")"
   ]
  },
  {
   "cell_type": "markdown",
   "id": "71cb06e5",
   "metadata": {},
   "source": [
    "### 轉換輸入的資料類型\n",
    "\n",
    "因為 `input()` 函數返回一個字串，所以當您需要數字時，您應該使用 `int()` 或 `float()` 函數來轉換輸入的值。\n",
    "\n",
    "**範例**:\n",
    "```python\n",
    "# 輸入整數\n",
    "age = int(input(\"Enter your age: \"))\n",
    "print(\"You are\", age, \"years old.\")\n",
    "\n",
    "# 輸入浮點數\n",
    "height = float(input(\"Enter your height in meters: \"))\n",
    "print(\"Your height is\", height, \"meters.\")\n"
   ]
  },
  {
   "cell_type": "code",
   "execution_count": 8,
   "id": "a2a18f2f",
   "metadata": {},
   "outputs": [
    {
     "name": "stdout",
     "output_type": "stream",
     "text": [
      "Enter your age: 10\n",
      "You are 10 years old.\n"
     ]
    }
   ],
   "source": [
    "# 輸入整數\n",
    "age = int(input(\"Enter your age: \"))\n",
    "print(\"You are\", age, \"years old.\")"
   ]
  },
  {
   "cell_type": "code",
   "execution_count": 9,
   "id": "694dc259",
   "metadata": {},
   "outputs": [
    {
     "name": "stdout",
     "output_type": "stream",
     "text": [
      "Enter your height in meters: 99.999\n",
      "Your height is 99.999 meters.\n"
     ]
    }
   ],
   "source": [
    "# 輸入浮點數\n",
    "height = float(input(\"Enter your height in meters: \"))\n",
    "print(\"Your height is\", height, \"meters.\")"
   ]
  }
 ],
 "metadata": {
  "kernelspec": {
   "display_name": "Python 3 (ipykernel)",
   "language": "python",
   "name": "python3"
  },
  "language_info": {
   "codemirror_mode": {
    "name": "ipython",
    "version": 3
   },
   "file_extension": ".py",
   "mimetype": "text/x-python",
   "name": "python",
   "nbconvert_exporter": "python",
   "pygments_lexer": "ipython3",
   "version": "3.9.7"
  }
 },
 "nbformat": 4,
 "nbformat_minor": 5
}
