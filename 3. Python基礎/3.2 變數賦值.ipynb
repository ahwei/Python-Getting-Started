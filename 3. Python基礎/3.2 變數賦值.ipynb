{
 "cells": [
  {
   "cell_type": "markdown",
   "id": "28354209",
   "metadata": {},
   "source": [
    "## 變數賦值\n",
    "\n",
    "在Python中，變數不需要事先宣告。當您在代碼中為變數指定一個值時，該變數就會自動存在。賦值是通過使用等號 (`=`) 來完成的。左邊是變數名稱，右邊是您想存儲在該變數中的值。\n",
    "\n",
    "**注意**：變數名稱應該始終選擇有意義的名稱，這樣可以使您的代碼更具可讀性。\n"
   ]
  },
  {
   "cell_type": "code",
   "execution_count": 1,
   "id": "42100660",
   "metadata": {},
   "outputs": [],
   "source": [
    "# 基本賦值\n",
    "name = \"John Doe\"\n",
    "age = 30\n",
    "\n",
    "# 這裡，'name' 是一個存儲字串 \"John Doe\" 的變數，而 'age' 存儲整數 30。\n"
   ]
  },
  {
   "cell_type": "markdown",
   "id": "e67048ea",
   "metadata": {},
   "source": [
    "### 多重賦值\n",
    "\n",
    "Python允許您使用單一賦值語句為多個變數指定值，這稱為多重賦值。\n"
   ]
  },
  {
   "cell_type": "code",
   "execution_count": 3,
   "id": "e9c23dc1",
   "metadata": {},
   "outputs": [],
   "source": [
    "# 同時賦予多個變數相同的值\n",
    "x = y = z = 0\n",
    "\n",
    "# 這裡，x、y 和 z 都被賦予了值 0。"
   ]
  },
  {
   "cell_type": "code",
   "execution_count": 5,
   "id": "dbc2c204",
   "metadata": {},
   "outputs": [
    {
     "data": {
      "text/plain": [
       "(0, 0, 0)"
      ]
     },
     "execution_count": 5,
     "metadata": {},
     "output_type": "execute_result"
    }
   ],
   "source": [
    "x,y,z"
   ]
  },
  {
   "cell_type": "code",
   "execution_count": 6,
   "id": "2aadac6a",
   "metadata": {},
   "outputs": [],
   "source": [
    "# 使用多重賦值給變數分別指定值\n",
    "a, b, c = 5, 3.2, \"Hello\"\n",
    "\n",
    "# 這裡，a 獲得值 5, b 獲得 3.2, c 獲得 \"Hello\""
   ]
  },
  {
   "cell_type": "code",
   "execution_count": 7,
   "id": "23f0881f",
   "metadata": {},
   "outputs": [
    {
     "data": {
      "text/plain": [
       "(5, 3.2, 'Hello')"
      ]
     },
     "execution_count": 7,
     "metadata": {},
     "output_type": "execute_result"
    }
   ],
   "source": [
    "a, b, c"
   ]
  },
  {
   "cell_type": "markdown",
   "id": "e22fedd7",
   "metadata": {},
   "source": [
    "### 交換兩個變數的值\n",
    "\n",
    "在許多編程語言中，交換兩個變數的值需要一個額外的臨時變數。但在Python中，您可以不使用臨時變數輕鬆地做到這一點。\n"
   ]
  },
  {
   "cell_type": "code",
   "execution_count": 8,
   "id": "99accc50",
   "metadata": {},
   "outputs": [],
   "source": [
    "# 交換兩個變數的值\n",
    "x, y = 5, 10\n",
    "x, y = y, x\n",
    "\n",
    "# 現在 x 的值是 10, y 的值是 5"
   ]
  },
  {
   "cell_type": "code",
   "execution_count": 9,
   "id": "01d316fe",
   "metadata": {},
   "outputs": [
    {
     "data": {
      "text/plain": [
       "(10, 5)"
      ]
     },
     "execution_count": 9,
     "metadata": {},
     "output_type": "execute_result"
    }
   ],
   "source": [
    "x, y"
   ]
  }
 ],
 "metadata": {
  "kernelspec": {
   "display_name": "Python 3 (ipykernel)",
   "language": "python",
   "name": "python3"
  },
  "language_info": {
   "codemirror_mode": {
    "name": "ipython",
    "version": 3
   },
   "file_extension": ".py",
   "mimetype": "text/x-python",
   "name": "python",
   "nbconvert_exporter": "python",
   "pygments_lexer": "ipython3",
   "version": "3.9.7"
  }
 },
 "nbformat": 4,
 "nbformat_minor": 5
}
